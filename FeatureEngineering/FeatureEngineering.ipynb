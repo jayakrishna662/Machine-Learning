{
 "cells": [
  {
   "cell_type": "markdown",
   "id": "4531d96c-3cee-414f-b369-f0027c98ef03",
   "metadata": {},
   "source": [
    "# Handling Missing values"
   ]
  },
  {
   "cell_type": "code",
   "execution_count": 57,
   "id": "a78f95ae-a0e4-4554-a7ab-039baac59de7",
   "metadata": {},
   "outputs": [],
   "source": [
    "import pandas as pd"
   ]
  },
  {
   "cell_type": "code",
   "execution_count": null,
   "id": "36798f45-60e0-447d-8ef8-61c33e6a4769",
   "metadata": {},
   "outputs": [],
   "source": [
    "df=pd.read_csv(\" \") # path to test.csv from titanic_dataset"
   ]
  },
  {
   "cell_type": "code",
   "execution_count": 61,
   "id": "ba0fbc8e-87de-4b8b-82f1-a8c2bfe41627",
   "metadata": {},
   "outputs": [
    {
     "data": {
      "text/html": [
       "<div>\n",
       "<style scoped>\n",
       "    .dataframe tbody tr th:only-of-type {\n",
       "        vertical-align: middle;\n",
       "    }\n",
       "\n",
       "    .dataframe tbody tr th {\n",
       "        vertical-align: top;\n",
       "    }\n",
       "\n",
       "    .dataframe thead th {\n",
       "        text-align: right;\n",
       "    }\n",
       "</style>\n",
       "<table border=\"1\" class=\"dataframe\">\n",
       "  <thead>\n",
       "    <tr style=\"text-align: right;\">\n",
       "      <th></th>\n",
       "      <th>PassengerId</th>\n",
       "      <th>Survived</th>\n",
       "      <th>Pclass</th>\n",
       "      <th>Name</th>\n",
       "      <th>Sex</th>\n",
       "      <th>Age</th>\n",
       "      <th>SibSp</th>\n",
       "      <th>Parch</th>\n",
       "      <th>Ticket</th>\n",
       "      <th>Fare</th>\n",
       "      <th>Cabin</th>\n",
       "      <th>Embarked</th>\n",
       "    </tr>\n",
       "  </thead>\n",
       "  <tbody>\n",
       "    <tr>\n",
       "      <th>0</th>\n",
       "      <td>1</td>\n",
       "      <td>0</td>\n",
       "      <td>3</td>\n",
       "      <td>Braund, Mr. Owen Harris</td>\n",
       "      <td>male</td>\n",
       "      <td>22.0</td>\n",
       "      <td>1</td>\n",
       "      <td>0</td>\n",
       "      <td>A/5 21171</td>\n",
       "      <td>7.2500</td>\n",
       "      <td>NaN</td>\n",
       "      <td>S</td>\n",
       "    </tr>\n",
       "    <tr>\n",
       "      <th>1</th>\n",
       "      <td>2</td>\n",
       "      <td>1</td>\n",
       "      <td>1</td>\n",
       "      <td>Cumings, Mrs. John Bradley (Florence Briggs Th...</td>\n",
       "      <td>female</td>\n",
       "      <td>38.0</td>\n",
       "      <td>1</td>\n",
       "      <td>0</td>\n",
       "      <td>PC 17599</td>\n",
       "      <td>71.2833</td>\n",
       "      <td>C85</td>\n",
       "      <td>C</td>\n",
       "    </tr>\n",
       "    <tr>\n",
       "      <th>2</th>\n",
       "      <td>3</td>\n",
       "      <td>1</td>\n",
       "      <td>3</td>\n",
       "      <td>Heikkinen, Miss. Laina</td>\n",
       "      <td>female</td>\n",
       "      <td>26.0</td>\n",
       "      <td>0</td>\n",
       "      <td>0</td>\n",
       "      <td>STON/O2. 3101282</td>\n",
       "      <td>7.9250</td>\n",
       "      <td>NaN</td>\n",
       "      <td>S</td>\n",
       "    </tr>\n",
       "    <tr>\n",
       "      <th>3</th>\n",
       "      <td>4</td>\n",
       "      <td>1</td>\n",
       "      <td>1</td>\n",
       "      <td>Futrelle, Mrs. Jacques Heath (Lily May Peel)</td>\n",
       "      <td>female</td>\n",
       "      <td>35.0</td>\n",
       "      <td>1</td>\n",
       "      <td>0</td>\n",
       "      <td>113803</td>\n",
       "      <td>53.1000</td>\n",
       "      <td>C123</td>\n",
       "      <td>S</td>\n",
       "    </tr>\n",
       "    <tr>\n",
       "      <th>4</th>\n",
       "      <td>5</td>\n",
       "      <td>0</td>\n",
       "      <td>3</td>\n",
       "      <td>Allen, Mr. William Henry</td>\n",
       "      <td>male</td>\n",
       "      <td>35.0</td>\n",
       "      <td>0</td>\n",
       "      <td>0</td>\n",
       "      <td>373450</td>\n",
       "      <td>8.0500</td>\n",
       "      <td>NaN</td>\n",
       "      <td>S</td>\n",
       "    </tr>\n",
       "  </tbody>\n",
       "</table>\n",
       "</div>"
      ],
      "text/plain": [
       "   PassengerId  Survived  Pclass  \\\n",
       "0            1         0       3   \n",
       "1            2         1       1   \n",
       "2            3         1       3   \n",
       "3            4         1       1   \n",
       "4            5         0       3   \n",
       "\n",
       "                                                Name     Sex   Age  SibSp  \\\n",
       "0                            Braund, Mr. Owen Harris    male  22.0      1   \n",
       "1  Cumings, Mrs. John Bradley (Florence Briggs Th...  female  38.0      1   \n",
       "2                             Heikkinen, Miss. Laina  female  26.0      0   \n",
       "3       Futrelle, Mrs. Jacques Heath (Lily May Peel)  female  35.0      1   \n",
       "4                           Allen, Mr. William Henry    male  35.0      0   \n",
       "\n",
       "   Parch            Ticket     Fare Cabin Embarked  \n",
       "0      0         A/5 21171   7.2500   NaN        S  \n",
       "1      0          PC 17599  71.2833   C85        C  \n",
       "2      0  STON/O2. 3101282   7.9250   NaN        S  \n",
       "3      0            113803  53.1000  C123        S  \n",
       "4      0            373450   8.0500   NaN        S  "
      ]
     },
     "execution_count": 61,
     "metadata": {},
     "output_type": "execute_result"
    }
   ],
   "source": [
    "df.head()"
   ]
  },
  {
   "cell_type": "code",
   "execution_count": 63,
   "id": "97662c48-28f7-4003-ac62-45d54da0482e",
   "metadata": {},
   "outputs": [
    {
     "data": {
      "text/plain": [
       "PassengerId      0\n",
       "Survived         0\n",
       "Pclass           0\n",
       "Name             0\n",
       "Sex              0\n",
       "Age            177\n",
       "SibSp            0\n",
       "Parch            0\n",
       "Ticket           0\n",
       "Fare             0\n",
       "Cabin          687\n",
       "Embarked         2\n",
       "dtype: int64"
      ]
     },
     "execution_count": 63,
     "metadata": {},
     "output_type": "execute_result"
    }
   ],
   "source": [
    "df.isnull().sum()"
   ]
  },
  {
   "cell_type": "code",
   "execution_count": 65,
   "id": "fe85b380-0a28-48fe-8f84-582fe03d0e4d",
   "metadata": {},
   "outputs": [
    {
     "data": {
      "text/plain": [
       "PassengerId     0.000000\n",
       "Survived        0.000000\n",
       "Pclass          0.000000\n",
       "Name            0.000000\n",
       "Sex             0.000000\n",
       "Age            19.865320\n",
       "SibSp           0.000000\n",
       "Parch           0.000000\n",
       "Ticket          0.000000\n",
       "Fare            0.000000\n",
       "Cabin          77.104377\n",
       "Embarked        0.224467\n",
       "dtype: float64"
      ]
     },
     "execution_count": 65,
     "metadata": {},
     "output_type": "execute_result"
    }
   ],
   "source": [
    "(df.isnull().sum()/len(df) )*100  #missing values percentage calculation"
   ]
  },
  {
   "cell_type": "code",
   "execution_count": 67,
   "id": "f8856747-b597-4f69-8c8b-8cd08cae115c",
   "metadata": {},
   "outputs": [
    {
     "data": {
      "image/png": "[encoded data removed]",
      "text/plain": [
       "<Figure size 640x480 with 1 Axes>"
      ]
     },
     "metadata": {},
     "output_type": "display_data"
    }
   ],
   "source": [
    "import seaborn as sns\n",
    "import matplotlib.pyplot as plt\n",
    "\n",
    "sns.histplot(df['Age'], bins=30, kde=True) #KDE=Kernel Density Estimate ( the blue line drawn over bars)\n",
    "plt.show()\n"
   ]
  },
  {
   "cell_type": "code",
   "execution_count": 69,
   "id": "7121410e-0220-4796-892a-2a3acbb4d848",
   "metadata": {},
   "outputs": [
    {
     "name": "stdout",
     "output_type": "stream",
     "text": [
      "28.0\n"
     ]
    }
   ],
   "source": [
    "#Median imputation for 'Age' ( Since mean is sensitive for outliers so we are going to use median imputation)\n",
    "print(df['Age'].median())\n",
    "df['Age']=df['Age'].fillna(df['Age'].median())"
   ]
  },
  {
   "cell_type": "code",
   "execution_count": 71,
   "id": "34e79937-75eb-47a1-a3bb-0995a2f1605e",
   "metadata": {},
   "outputs": [
    {
     "name": "stdout",
     "output_type": "stream",
     "text": [
      "0\n"
     ]
    }
   ],
   "source": [
    "print(df['Age'].isnull().sum()) #null values are replaced with median"
   ]
  },
  {
   "cell_type": "markdown",
   "id": "7faece7a-58dd-4538-a779-7c8885aa6794",
   "metadata": {},
   "source": [
    "**Cabin should be droped since it consists of nearly 77% of missing values...**"
   ]
  },
  {
   "cell_type": "code",
   "execution_count": 73,
   "id": "0ad92945-3a1c-4ad0-b9d0-09e88e8166c0",
   "metadata": {},
   "outputs": [],
   "source": [
    "df.drop('Cabin', axis=1, inplace=True)  #axis1-refers to column and axis0-refers to rows"
   ]
  },
  {
   "cell_type": "code",
   "execution_count": 77,
   "id": "adbd3f76-e3a4-4eb0-b407-d98ad03b1d4a",
   "metadata": {},
   "outputs": [
    {
     "name": "stdout",
     "output_type": "stream",
     "text": [
      "Index(['PassengerId', 'Survived', 'Pclass', 'Name', 'Sex', 'Age', 'SibSp',\n",
      "       'Parch', 'Ticket', 'Fare', 'Embarked'],\n",
      "      dtype='object')\n"
     ]
    }
   ],
   "source": [
    "print(df.columns) #check columns after dropping cabin"
   ]
  },
  {
   "cell_type": "code",
   "execution_count": 62,
   "id": "7375e675-3349-4608-99cf-c5613e7bd58c",
   "metadata": {},
   "outputs": [
    {
     "data": {
      "text/plain": [
       "'S'"
      ]
     },
     "execution_count": 62,
     "metadata": {},
     "output_type": "execute_result"
    }
   ],
   "source": [
    "df['Embarked'].mode()[0] #since multiple mode values might exsits. so we only go with first one, hence we used mode[0]"
   ]
  },
  {
   "cell_type": "code",
   "execution_count": 92,
   "id": "24ea8c04-23ec-4a21-bff4-bcfb25039314",
   "metadata": {},
   "outputs": [],
   "source": [
    "df['Embarked']=df['Embarked'].fillna(df['Embarked'].mode()[0]) #fill with mode value"
   ]
  },
  {
   "cell_type": "code",
   "execution_count": 96,
   "id": "c6b24e13-a6aa-40d8-a9c7-5f1688bfb0b2",
   "metadata": {},
   "outputs": [
    {
     "name": "stdout",
     "output_type": "stream",
     "text": [
      "0\n"
     ]
    }
   ],
   "source": [
    "print(df['Embarked'].isna().sum())"
   ]
  },
  {
   "cell_type": "markdown",
   "id": "ad161719-9dc2-4e36-ad27-4921a8f88b27",
   "metadata": {},
   "source": [
    "# Handling Imbalanced data"
   ]
  },
  {
   "cell_type": "markdown",
   "id": "ffffbca3-6670-439f-8236-0c1d8385f0c1",
   "metadata": {},
   "source": [
    "# Upsampling minority class\n",
    "Advantage: Dataset becomes balanced, so models won’t be biased toward majority class.<br>\n",
    "Diadvantage: Since we use with replacement, so duplication of minority samples doesnt add new info.The model may learn only patterns from repeated samples instead of learning generalized patterns."
   ]
  },
  {
   "cell_type": "code",
   "execution_count": 99,
   "id": "a5d70d7e-d920-4d96-b662-ea862960f733",
   "metadata": {},
   "outputs": [],
   "source": [
    "n_class_0=900 #majority class\n",
    "n_class_1=100 #minority class"
   ]
  },
  {
   "cell_type": "code",
   "execution_count": 101,
   "id": "944c1fcb-b291-478f-aea1-93d466d02962",
   "metadata": {},
   "outputs": [],
   "source": [
    "import numpy as np\n",
    "class_0=pd.DataFrame({\n",
    "    'feature1':np.random.normal(loc=0,scale=1,size=n_class_0),  # loc refers to mean, and scale refers to standard deviation\n",
    "    'target':[0]*n_class_0})     #so for standard normal distribution we took loc=0,scale=1, and size refers to number of dataPoints to generate\n",
    "\n",
    "class_1=pd.DataFrame({\n",
    "    'feature1':np.random.normal(loc=3,scale=1,size=n_class_1),   \n",
    "    'target':[1]*n_class_1}) \n",
    "    "
   ]
  },
  {
   "cell_type": "code",
   "execution_count": 103,
   "id": "f3bc8cd7-6069-48eb-92d0-c86c5a2e6c5a",
   "metadata": {},
   "outputs": [
    {
     "data": {
      "text/html": [
       "<div>\n",
       "<style scoped>\n",
       "    .dataframe tbody tr th:only-of-type {\n",
       "        vertical-align: middle;\n",
       "    }\n",
       "\n",
       "    .dataframe tbody tr th {\n",
       "        vertical-align: top;\n",
       "    }\n",
       "\n",
       "    .dataframe thead th {\n",
       "        text-align: right;\n",
       "    }\n",
       "</style>\n",
       "<table border=\"1\" class=\"dataframe\">\n",
       "  <thead>\n",
       "    <tr style=\"text-align: right;\">\n",
       "      <th></th>\n",
       "      <th>feature1</th>\n",
       "      <th>target</th>\n",
       "    </tr>\n",
       "  </thead>\n",
       "  <tbody>\n",
       "    <tr>\n",
       "      <th>0</th>\n",
       "      <td>-1.776504</td>\n",
       "      <td>0</td>\n",
       "    </tr>\n",
       "    <tr>\n",
       "      <th>1</th>\n",
       "      <td>0.356703</td>\n",
       "      <td>0</td>\n",
       "    </tr>\n",
       "    <tr>\n",
       "      <th>2</th>\n",
       "      <td>-0.025222</td>\n",
       "      <td>0</td>\n",
       "    </tr>\n",
       "    <tr>\n",
       "      <th>3</th>\n",
       "      <td>0.951288</td>\n",
       "      <td>0</td>\n",
       "    </tr>\n",
       "    <tr>\n",
       "      <th>4</th>\n",
       "      <td>1.287430</td>\n",
       "      <td>0</td>\n",
       "    </tr>\n",
       "    <tr>\n",
       "      <th>...</th>\n",
       "      <td>...</td>\n",
       "      <td>...</td>\n",
       "    </tr>\n",
       "    <tr>\n",
       "      <th>895</th>\n",
       "      <td>-1.332681</td>\n",
       "      <td>0</td>\n",
       "    </tr>\n",
       "    <tr>\n",
       "      <th>896</th>\n",
       "      <td>-1.082979</td>\n",
       "      <td>0</td>\n",
       "    </tr>\n",
       "    <tr>\n",
       "      <th>897</th>\n",
       "      <td>1.070563</td>\n",
       "      <td>0</td>\n",
       "    </tr>\n",
       "    <tr>\n",
       "      <th>898</th>\n",
       "      <td>-0.969212</td>\n",
       "      <td>0</td>\n",
       "    </tr>\n",
       "    <tr>\n",
       "      <th>899</th>\n",
       "      <td>1.181014</td>\n",
       "      <td>0</td>\n",
       "    </tr>\n",
       "  </tbody>\n",
       "</table>\n",
       "<p>900 rows × 2 columns</p>\n",
       "</div>"
      ],
      "text/plain": [
       "     feature1  target\n",
       "0   -1.776504       0\n",
       "1    0.356703       0\n",
       "2   -0.025222       0\n",
       "3    0.951288       0\n",
       "4    1.287430       0\n",
       "..        ...     ...\n",
       "895 -1.332681       0\n",
       "896 -1.082979       0\n",
       "897  1.070563       0\n",
       "898 -0.969212       0\n",
       "899  1.181014       0\n",
       "\n",
       "[900 rows x 2 columns]"
      ]
     },
     "execution_count": 103,
     "metadata": {},
     "output_type": "execute_result"
    }
   ],
   "source": [
    "class_0"
   ]
  },
  {
   "cell_type": "code",
   "execution_count": 105,
   "id": "a4dc1df9-66fd-4817-956e-39feb184767f",
   "metadata": {},
   "outputs": [
    {
     "data": {
      "text/html": [
       "<div>\n",
       "<style scoped>\n",
       "    .dataframe tbody tr th:only-of-type {\n",
       "        vertical-align: middle;\n",
       "    }\n",
       "\n",
       "    .dataframe tbody tr th {\n",
       "        vertical-align: top;\n",
       "    }\n",
       "\n",
       "    .dataframe thead th {\n",
       "        text-align: right;\n",
       "    }\n",
       "</style>\n",
       "<table border=\"1\" class=\"dataframe\">\n",
       "  <thead>\n",
       "    <tr style=\"text-align: right;\">\n",
       "      <th></th>\n",
       "      <th>feature1</th>\n",
       "      <th>target</th>\n",
       "    </tr>\n",
       "  </thead>\n",
       "  <tbody>\n",
       "    <tr>\n",
       "      <th>0</th>\n",
       "      <td>-0.472995</td>\n",
       "      <td>1</td>\n",
       "    </tr>\n",
       "    <tr>\n",
       "      <th>1</th>\n",
       "      <td>0.161775</td>\n",
       "      <td>1</td>\n",
       "    </tr>\n",
       "    <tr>\n",
       "      <th>2</th>\n",
       "      <td>0.814506</td>\n",
       "      <td>1</td>\n",
       "    </tr>\n",
       "    <tr>\n",
       "      <th>3</th>\n",
       "      <td>0.445112</td>\n",
       "      <td>1</td>\n",
       "    </tr>\n",
       "    <tr>\n",
       "      <th>4</th>\n",
       "      <td>0.262509</td>\n",
       "      <td>1</td>\n",
       "    </tr>\n",
       "    <tr>\n",
       "      <th>...</th>\n",
       "      <td>...</td>\n",
       "      <td>...</td>\n",
       "    </tr>\n",
       "    <tr>\n",
       "      <th>95</th>\n",
       "      <td>-0.202309</td>\n",
       "      <td>1</td>\n",
       "    </tr>\n",
       "    <tr>\n",
       "      <th>96</th>\n",
       "      <td>-0.499936</td>\n",
       "      <td>1</td>\n",
       "    </tr>\n",
       "    <tr>\n",
       "      <th>97</th>\n",
       "      <td>-0.765325</td>\n",
       "      <td>1</td>\n",
       "    </tr>\n",
       "    <tr>\n",
       "      <th>98</th>\n",
       "      <td>-1.508683</td>\n",
       "      <td>1</td>\n",
       "    </tr>\n",
       "    <tr>\n",
       "      <th>99</th>\n",
       "      <td>-0.495062</td>\n",
       "      <td>1</td>\n",
       "    </tr>\n",
       "  </tbody>\n",
       "</table>\n",
       "<p>100 rows × 2 columns</p>\n",
       "</div>"
      ],
      "text/plain": [
       "    feature1  target\n",
       "0  -0.472995       1\n",
       "1   0.161775       1\n",
       "2   0.814506       1\n",
       "3   0.445112       1\n",
       "4   0.262509       1\n",
       "..       ...     ...\n",
       "95 -0.202309       1\n",
       "96 -0.499936       1\n",
       "97 -0.765325       1\n",
       "98 -1.508683       1\n",
       "99 -0.495062       1\n",
       "\n",
       "[100 rows x 2 columns]"
      ]
     },
     "execution_count": 105,
     "metadata": {},
     "output_type": "execute_result"
    }
   ],
   "source": [
    "class_1"
   ]
  },
  {
   "cell_type": "code",
   "execution_count": 119,
   "id": "1ca8ad66-620c-4982-af18-7271aea7d1d1",
   "metadata": {},
   "outputs": [
    {
     "data": {
      "text/html": [
       "<div>\n",
       "<style scoped>\n",
       "    .dataframe tbody tr th:only-of-type {\n",
       "        vertical-align: middle;\n",
       "    }\n",
       "\n",
       "    .dataframe tbody tr th {\n",
       "        vertical-align: top;\n",
       "    }\n",
       "\n",
       "    .dataframe thead th {\n",
       "        text-align: right;\n",
       "    }\n",
       "</style>\n",
       "<table border=\"1\" class=\"dataframe\">\n",
       "  <thead>\n",
       "    <tr style=\"text-align: right;\">\n",
       "      <th></th>\n",
       "      <th>feature1</th>\n",
       "      <th>target</th>\n",
       "    </tr>\n",
       "  </thead>\n",
       "  <tbody>\n",
       "    <tr>\n",
       "      <th>0</th>\n",
       "      <td>-1.776504</td>\n",
       "      <td>0</td>\n",
       "    </tr>\n",
       "    <tr>\n",
       "      <th>1</th>\n",
       "      <td>0.356703</td>\n",
       "      <td>0</td>\n",
       "    </tr>\n",
       "    <tr>\n",
       "      <th>2</th>\n",
       "      <td>-0.025222</td>\n",
       "      <td>0</td>\n",
       "    </tr>\n",
       "    <tr>\n",
       "      <th>3</th>\n",
       "      <td>0.951288</td>\n",
       "      <td>0</td>\n",
       "    </tr>\n",
       "    <tr>\n",
       "      <th>4</th>\n",
       "      <td>1.287430</td>\n",
       "      <td>0</td>\n",
       "    </tr>\n",
       "    <tr>\n",
       "      <th>...</th>\n",
       "      <td>...</td>\n",
       "      <td>...</td>\n",
       "    </tr>\n",
       "    <tr>\n",
       "      <th>995</th>\n",
       "      <td>-0.202309</td>\n",
       "      <td>1</td>\n",
       "    </tr>\n",
       "    <tr>\n",
       "      <th>996</th>\n",
       "      <td>-0.499936</td>\n",
       "      <td>1</td>\n",
       "    </tr>\n",
       "    <tr>\n",
       "      <th>997</th>\n",
       "      <td>-0.765325</td>\n",
       "      <td>1</td>\n",
       "    </tr>\n",
       "    <tr>\n",
       "      <th>998</th>\n",
       "      <td>-1.508683</td>\n",
       "      <td>1</td>\n",
       "    </tr>\n",
       "    <tr>\n",
       "      <th>999</th>\n",
       "      <td>-0.495062</td>\n",
       "      <td>1</td>\n",
       "    </tr>\n",
       "  </tbody>\n",
       "</table>\n",
       "<p>1000 rows × 2 columns</p>\n",
       "</div>"
      ],
      "text/plain": [
       "     feature1  target\n",
       "0   -1.776504       0\n",
       "1    0.356703       0\n",
       "2   -0.025222       0\n",
       "3    0.951288       0\n",
       "4    1.287430       0\n",
       "..        ...     ...\n",
       "995 -0.202309       1\n",
       "996 -0.499936       1\n",
       "997 -0.765325       1\n",
       "998 -1.508683       1\n",
       "999 -0.495062       1\n",
       "\n",
       "[1000 rows x 2 columns]"
      ]
     },
     "execution_count": 119,
     "metadata": {},
     "output_type": "execute_result"
    }
   ],
   "source": [
    "df = pd.concat([class_0, class_1],ignore_index=True) #after concatenation the resulting dataframe will have duplicate indices so we used ignore_index=True\n",
    "df"
   ]
  },
  {
   "cell_type": "code",
   "execution_count": 125,
   "id": "6f48a653-4b23-42ec-bf15-a39964d70d1e",
   "metadata": {},
   "outputs": [
    {
     "name": "stdout",
     "output_type": "stream",
     "text": [
      "target\n",
      "0    900\n",
      "1    100\n",
      "Name: count, dtype: int64\n"
     ]
    }
   ],
   "source": [
    "print(df['target'].value_counts())  #counts how many times each unique value appears in the column target"
   ]
  },
  {
   "cell_type": "code",
   "execution_count": 130,
   "id": "3dfac624-c108-42f9-ae13-9ff052e9e255",
   "metadata": {},
   "outputs": [],
   "source": [
    "#Separate majority and minority classes\n",
    "df_majority = df[df['target'] == 0]\n",
    "df_minority = df[df['target'] == 1]"
   ]
  },
  {
   "cell_type": "code",
   "execution_count": 132,
   "id": "6eedcdb7-3f3f-4961-9f85-b0b151c93613",
   "metadata": {},
   "outputs": [
    {
     "data": {
      "text/html": [
       "<div>\n",
       "<style scoped>\n",
       "    .dataframe tbody tr th:only-of-type {\n",
       "        vertical-align: middle;\n",
       "    }\n",
       "\n",
       "    .dataframe tbody tr th {\n",
       "        vertical-align: top;\n",
       "    }\n",
       "\n",
       "    .dataframe thead th {\n",
       "        text-align: right;\n",
       "    }\n",
       "</style>\n",
       "<table border=\"1\" class=\"dataframe\">\n",
       "  <thead>\n",
       "    <tr style=\"text-align: right;\">\n",
       "      <th></th>\n",
       "      <th>feature1</th>\n",
       "      <th>target</th>\n",
       "    </tr>\n",
       "  </thead>\n",
       "  <tbody>\n",
       "    <tr>\n",
       "      <th>0</th>\n",
       "      <td>-1.776504</td>\n",
       "      <td>0</td>\n",
       "    </tr>\n",
       "    <tr>\n",
       "      <th>1</th>\n",
       "      <td>0.356703</td>\n",
       "      <td>0</td>\n",
       "    </tr>\n",
       "    <tr>\n",
       "      <th>2</th>\n",
       "      <td>-0.025222</td>\n",
       "      <td>0</td>\n",
       "    </tr>\n",
       "    <tr>\n",
       "      <th>3</th>\n",
       "      <td>0.951288</td>\n",
       "      <td>0</td>\n",
       "    </tr>\n",
       "    <tr>\n",
       "      <th>4</th>\n",
       "      <td>1.287430</td>\n",
       "      <td>0</td>\n",
       "    </tr>\n",
       "    <tr>\n",
       "      <th>...</th>\n",
       "      <td>...</td>\n",
       "      <td>...</td>\n",
       "    </tr>\n",
       "    <tr>\n",
       "      <th>895</th>\n",
       "      <td>-1.332681</td>\n",
       "      <td>0</td>\n",
       "    </tr>\n",
       "    <tr>\n",
       "      <th>896</th>\n",
       "      <td>-1.082979</td>\n",
       "      <td>0</td>\n",
       "    </tr>\n",
       "    <tr>\n",
       "      <th>897</th>\n",
       "      <td>1.070563</td>\n",
       "      <td>0</td>\n",
       "    </tr>\n",
       "    <tr>\n",
       "      <th>898</th>\n",
       "      <td>-0.969212</td>\n",
       "      <td>0</td>\n",
       "    </tr>\n",
       "    <tr>\n",
       "      <th>899</th>\n",
       "      <td>1.181014</td>\n",
       "      <td>0</td>\n",
       "    </tr>\n",
       "  </tbody>\n",
       "</table>\n",
       "<p>900 rows × 2 columns</p>\n",
       "</div>"
      ],
      "text/plain": [
       "     feature1  target\n",
       "0   -1.776504       0\n",
       "1    0.356703       0\n",
       "2   -0.025222       0\n",
       "3    0.951288       0\n",
       "4    1.287430       0\n",
       "..        ...     ...\n",
       "895 -1.332681       0\n",
       "896 -1.082979       0\n",
       "897  1.070563       0\n",
       "898 -0.969212       0\n",
       "899  1.181014       0\n",
       "\n",
       "[900 rows x 2 columns]"
      ]
     },
     "execution_count": 132,
     "metadata": {},
     "output_type": "execute_result"
    }
   ],
   "source": [
    "df_majority"
   ]
  },
  {
   "cell_type": "code",
   "execution_count": 113,
   "id": "0d3f04f8-cef6-4c7b-8127-c61e88deb73e",
   "metadata": {},
   "outputs": [],
   "source": [
    "import pandas as pd\n",
    "from sklearn.utils import resample"
   ]
  },
  {
   "cell_type": "code",
   "execution_count": 147,
   "id": "5c4ddb19-5937-46fb-9eed-91f0897927c5",
   "metadata": {},
   "outputs": [
    {
     "data": {
      "text/plain": [
       "(900, 2)"
      ]
     },
     "execution_count": 147,
     "metadata": {},
     "output_type": "execute_result"
    }
   ],
   "source": [
    "df_UpSampled_minority=resample(df_minority,\n",
    "         replace=True, #sample with replacement\n",
    "         n_samples=len(df_majority), #no.of datapoints(match the majority class datapoints)\n",
    "         random_state=42)  #reproducibility\n",
    "\n",
    "df_UpSampled_minority.shape   #we have created new datapoints for minority class"
   ]
  },
  {
   "cell_type": "code",
   "execution_count": 151,
   "id": "d068fb96-c65f-4a1c-8738-71e54928b759",
   "metadata": {},
   "outputs": [
    {
     "name": "stdout",
     "output_type": "stream",
     "text": [
      "      feature1  target\n",
      "0     1.008620       1\n",
      "1     1.551717       1\n",
      "2     1.162481       1\n",
      "3    -0.041700       1\n",
      "4    -0.288577       1\n",
      "...        ...     ...\n",
      "1795 -1.332681       0\n",
      "1796 -1.082979       0\n",
      "1797  1.070563       0\n",
      "1798 -0.969212       0\n",
      "1799  1.181014       0\n",
      "\n",
      "[1800 rows x 2 columns]\n"
     ]
    }
   ],
   "source": [
    "df_UpSampled=pd.concat([df_UpSampled_minority,df_majority],ignore_index=True)\n",
    "print(df_UpSampled)"
   ]
  },
  {
   "cell_type": "code",
   "execution_count": 155,
   "id": "00c4097b-1c84-4672-9979-ed94fd2754ea",
   "metadata": {},
   "outputs": [
    {
     "name": "stdout",
     "output_type": "stream",
     "text": [
      "target\n",
      "1    900\n",
      "0    900\n",
      "Name: count, dtype: int64\n"
     ]
    }
   ],
   "source": [
    "print(df_UpSampled['target'].value_counts())"
   ]
  },
  {
   "cell_type": "markdown",
   "id": "9e34d854-fbc1-40b0-90fb-e158eacb1ae0",
   "metadata": {},
   "source": [
    "# DownSampling majority class\n",
    "Advantage: Dataset becomes balanced, so models won’t be biased toward majority class.<br>\n",
    "Disadvantage: We might loose important information since we drop lot of majority class samples."
   ]
  },
  {
   "cell_type": "code",
   "execution_count": 103,
   "id": "386acfa6-ddfc-4955-8d56-d577130f3ee9",
   "metadata": {},
   "outputs": [],
   "source": [
    "n_class_0=900 #majority class\n",
    "n_class_1=100 #minority class"
   ]
  },
  {
   "cell_type": "code",
   "execution_count": 105,
   "id": "3eca4a5c-c8b8-4835-8954-5902ba3cc2f0",
   "metadata": {},
   "outputs": [],
   "source": [
    "import numpy as np\n",
    "class_0=pd.DataFrame({\n",
    "    'feature1':np.random.normal(loc=0,scale=1,size=n_class_0),  # loc refers to mean, and scale refers to standard deviation\n",
    "    'target':[0]*n_class_0})     #so for standard normal distribution we took loc=0,scale=1, and size refers to number of dataPoints to generate\n",
    "\n",
    "class_1=pd.DataFrame({\n",
    "    'feature1':np.random.normal(loc=3,scale=1,size=n_class_1),   \n",
    "    'target':[1]*n_class_1}) \n",
    "    "
   ]
  },
  {
   "cell_type": "code",
   "execution_count": 107,
   "id": "85e1d7dc-fb1a-4812-8122-7852ec99fd7f",
   "metadata": {},
   "outputs": [],
   "source": [
    "df = pd.concat([class_0, class_1],ignore_index=True) #after concatenation the resulting dataframe will have duplicate indices so we used ignore_index=True"
   ]
  },
  {
   "cell_type": "code",
   "execution_count": 109,
   "id": "c92be069-9343-4e09-a524-0a0ef4b42ac4",
   "metadata": {},
   "outputs": [],
   "source": [
    "#Separate majority and minority classes\n",
    "df_majority = df[df['target'] == 0]\n",
    "df_minority = df[df['target'] == 1]"
   ]
  },
  {
   "cell_type": "code",
   "execution_count": null,
   "id": "aeb9f1fd-c1fb-4d5d-8b53-d4dd913da37b",
   "metadata": {},
   "outputs": [],
   "source": [
    "df_downSampled_majority=resample(df_majority,\n",
    "         replace=False, # since we are just reducing data points , no need of replacement\n",
    "         n_samples=len(df_minority), #no.of datapoints(match the majority class datapoints)\n",
    "         random_state=42)  #reproducibility\n",
    "\n",
    "df_downSampled_majority.shape   #we have created new datapoints for minority class"
   ]
  },
  {
   "cell_type": "code",
   "execution_count": 120,
   "id": "2529a497-c111-4763-92f8-2eef43366002",
   "metadata": {},
   "outputs": [
    {
     "name": "stdout",
     "output_type": "stream",
     "text": [
      "     feature1  target\n",
      "0   -0.931874       0\n",
      "1   -0.192909       0\n",
      "2   -0.466623       0\n",
      "3    0.062384       0\n",
      "4   -0.867215       0\n",
      "..        ...     ...\n",
      "195  1.318809       1\n",
      "196  2.377487       1\n",
      "197  2.056399       1\n",
      "198  4.587653       1\n",
      "199  2.534717       1\n",
      "\n",
      "[200 rows x 2 columns]\n"
     ]
    }
   ],
   "source": [
    "df_downSampled=pd.concat([df_downSampled_majority,df_minority],ignore_index=True)\n",
    "print(df_downSampled)"
   ]
  },
  {
   "cell_type": "code",
   "execution_count": 122,
   "id": "6410d122-6f42-4da5-a57b-59161719cd83",
   "metadata": {},
   "outputs": [
    {
     "name": "stdout",
     "output_type": "stream",
     "text": [
      "target\n",
      "0    100\n",
      "1    100\n",
      "Name: count, dtype: int64\n"
     ]
    }
   ],
   "source": [
    "print(df_downSampled['target'].value_counts())"
   ]
  },
  {
   "cell_type": "markdown",
   "id": "33dc7317-df88-49ee-b572-a88d2fd4b9d0",
   "metadata": {},
   "source": [
    "# SMOTE-Synthetic Minority Oversampling Technique\n",
    "It is a technique used to handle imbalanced datasets by creating synthetic (artificial) samples of the minority class instead of just duplicating existing ones (like plain upsampling).<br>\n",
    "For each minority sample, SMOTE picks one of its nearest neighbors (from the same minority class).\n",
    "It then creates a new synthetic sample by interpolating between the original sample and its neighbor"
   ]
  },
  {
   "cell_type": "code",
   "execution_count": 6,
   "id": "0a0aa375-d239-425b-8ad3-839c38473c2c",
   "metadata": {},
   "outputs": [],
   "source": [
    "from sklearn.datasets import make_classification\n",
    "import pandas as pd\n"
   ]
  },
  {
   "cell_type": "code",
   "execution_count": 45,
   "id": "d926459d-8a2d-47a8-b700-a66a07e25709",
   "metadata": {},
   "outputs": [],
   "source": [
    "# Creating imbalanced dataset using make_classification function\n",
    "\n",
    "X,Y= make_classification(n_samples=1000,       # total samples\n",
    "                           n_features=2,       # number of features\n",
    "                           n_redundant=0,      # redundant features\n",
    "                           n_classes=2,        # binary classification\n",
    "                           weights=[0.9, 0.1], # imbalance ratio (90% : 10%)\n",
    "                           random_state=42)"
   ]
  },
  {
   "cell_type": "markdown",
   "id": "f5eb20ed-fafa-4284-9acb-413b0ff52e31",
   "metadata": {},
   "source": [
    "X --> input variable with two columns(features) and 1000 rows(samples) <br>\n",
    "Y --> output variable (target) which contains class labels( 0 and 1) since n_classes=2, and distribution depends on weights [0.9,0.1] <br>\n",
    "      900 samples labeled as 0 <br>\n",
    "      100 samples labeled as 1"
   ]
  },
  {
   "cell_type": "code",
   "execution_count": 119,
   "id": "2bda1a8d-68c0-4d9b-a7d5-f8f97abab104",
   "metadata": {},
   "outputs": [
    {
     "data": {
      "text/plain": [
       "1000"
      ]
     },
     "execution_count": 119,
     "metadata": {},
     "output_type": "execute_result"
    }
   ],
   "source": [
    "len(Y)"
   ]
  },
  {
   "cell_type": "code",
   "execution_count": 117,
   "id": "1992e4df-e83e-41bd-a750-a15f7ccabd5d",
   "metadata": {},
   "outputs": [
    {
     "data": {
      "text/plain": [
       "1000"
      ]
     },
     "execution_count": 117,
     "metadata": {},
     "output_type": "execute_result"
    }
   ],
   "source": [
    "len(X)\n"
   ]
  },
  {
   "cell_type": "code",
   "execution_count": 51,
   "id": "63580d3d-2a00-4c3d-b89b-7f4c713b4953",
   "metadata": {},
   "outputs": [],
   "source": [
    "df=pd.DataFrame(X,columns=['f1','f2'])\n",
    "df['target']=Y"
   ]
  },
  {
   "cell_type": "code",
   "execution_count": 61,
   "id": "fa5f503c-3d67-46d5-84f5-97a578a19a6b",
   "metadata": {},
   "outputs": [
    {
     "data": {
      "text/plain": [
       "target\n",
       "0    894\n",
       "1    106\n",
       "Name: count, dtype: int64"
      ]
     },
     "execution_count": 61,
     "metadata": {},
     "output_type": "execute_result"
    }
   ],
   "source": [
    "df['target'].value_counts()"
   ]
  },
  {
   "cell_type": "markdown",
   "id": "0c7f937d-2be1-4838-bd8c-ad8d96bc3949",
   "metadata": {},
   "source": [
    "**since class-0 has 894 samples and class-1 has 106 samples which is imbalanced distribution**"
   ]
  },
  {
   "cell_type": "code",
   "execution_count": 80,
   "id": "bd944d1e-c331-4a55-a76e-4851fa0b0414",
   "metadata": {},
   "outputs": [
    {
     "data": {
      "text/plain": [
       "<matplotlib.collections.PathCollection at 0x1a509eaadb0>"
      ]
     },
     "execution_count": 80,
     "metadata": {},
     "output_type": "execute_result"
    },
    {
     "data": {
      "image/png": "[encoded data removed]",
      "text/plain": [
       "<Figure size 640x480 with 1 Axes>"
      ]
     },
     "metadata": {},
     "output_type": "display_data"
    }
   ],
   "source": [
    "import matplotlib.pyplot  as plt\n",
    "plt.scatter(x=df['f1'],y=df['f2'],c=df['target'])  #f1 on x-axis,f2 on y-axis and c means color points based on target ( i.e class 0- one color, class-1 other color)"
   ]
  },
  {
   "cell_type": "markdown",
   "id": "5acf43f8-86a0-43cf-b0f5-6ab8b1d83df7",
   "metadata": {},
   "source": [
    "**Applying SMOTE to handle imbalance**"
   ]
  },
  {
   "cell_type": "code",
   "execution_count": 83,
   "id": "25721984-b63c-468c-8b86-9e82e3715b4d",
   "metadata": {},
   "outputs": [
    {
     "name": "stdout",
     "output_type": "stream",
     "text": [
      "Collecting imblearn\n",
      "  Downloading imblearn-0.0-py2.py3-none-any.whl.metadata (355 bytes)\n",
      "Collecting imbalanced-learn (from imblearn)\n",
      "  Downloading imbalanced_learn-0.14.0-py3-none-any.whl.metadata (8.8 kB)\n",
      "Requirement already satisfied: numpy<3,>=1.25.2 in c:\\users\\jaykr\\desktop\\ml\\myproject\\venv\\lib\\site-packages (from imbalanced-learn->imblearn) (2.2.4)\n",
      "Requirement already satisfied: scipy<2,>=1.11.4 in c:\\users\\jaykr\\desktop\\ml\\myproject\\venv\\lib\\site-packages (from imbalanced-learn->imblearn) (1.15.2)\n",
      "Requirement already satisfied: scikit-learn<2,>=1.4.2 in c:\\users\\jaykr\\desktop\\ml\\myproject\\venv\\lib\\site-packages (from imbalanced-learn->imblearn) (1.7.1)\n",
      "Requirement already satisfied: joblib<2,>=1.2.0 in c:\\users\\jaykr\\desktop\\ml\\myproject\\venv\\lib\\site-packages (from imbalanced-learn->imblearn) (1.5.1)\n",
      "Requirement already satisfied: threadpoolctl<4,>=2.0.0 in c:\\users\\jaykr\\desktop\\ml\\myproject\\venv\\lib\\site-packages (from imbalanced-learn->imblearn) (3.6.0)\n",
      "Downloading imblearn-0.0-py2.py3-none-any.whl (1.9 kB)\n",
      "Downloading imbalanced_learn-0.14.0-py3-none-any.whl (239 kB)\n",
      "Installing collected packages: imbalanced-learn, imblearn\n",
      "Successfully installed imbalanced-learn-0.14.0 imblearn-0.0\n",
      "Note: you may need to restart the kernel to use updated packages.\n"
     ]
    }
   ],
   "source": [
    "pip install imblearn"
   ]
  },
  {
   "cell_type": "code",
   "execution_count": 85,
   "id": "2898fc47-30b0-4386-bbc6-4bb10a562c39",
   "metadata": {},
   "outputs": [],
   "source": [
    "from imblearn.over_sampling import SMOTE"
   ]
  },
  {
   "cell_type": "code",
   "execution_count": 87,
   "id": "a1b7434a-78e3-4480-bd71-8d7059f45559",
   "metadata": {},
   "outputs": [],
   "source": [
    "# Create SMOTE object\n",
    "smote = SMOTE()"
   ]
  },
  {
   "cell_type": "code",
   "execution_count": 89,
   "id": "a5ccb757-b75e-434e-a59c-48556079cbfd",
   "metadata": {},
   "outputs": [],
   "source": [
    "X_resampled, Y_resampled = smote.fit_resample(X, Y)"
   ]
  },
  {
   "cell_type": "code",
   "execution_count": 101,
   "id": "973e0f2f-24a5-4ada-a817-6f95fc7d4b22",
   "metadata": {},
   "outputs": [],
   "source": [
    "df_resampled=pd.DataFrame(X_resampled,columns=['f1','f2'])\n",
    "df_resampled['target']=Y_resampled"
   ]
  },
  {
   "cell_type": "code",
   "execution_count": 103,
   "id": "9016adde-4e44-4fee-8b38-0dfb99124b7a",
   "metadata": {},
   "outputs": [
    {
     "data": {
      "text/html": [
       "<div>\n",
       "<style scoped>\n",
       "    .dataframe tbody tr th:only-of-type {\n",
       "        vertical-align: middle;\n",
       "    }\n",
       "\n",
       "    .dataframe tbody tr th {\n",
       "        vertical-align: top;\n",
       "    }\n",
       "\n",
       "    .dataframe thead th {\n",
       "        text-align: right;\n",
       "    }\n",
       "</style>\n",
       "<table border=\"1\" class=\"dataframe\">\n",
       "  <thead>\n",
       "    <tr style=\"text-align: right;\">\n",
       "      <th></th>\n",
       "      <th>f1</th>\n",
       "      <th>f2</th>\n",
       "      <th>target</th>\n",
       "    </tr>\n",
       "  </thead>\n",
       "  <tbody>\n",
       "    <tr>\n",
       "      <th>0</th>\n",
       "      <td>-0.058619</td>\n",
       "      <td>-0.351090</td>\n",
       "      <td>0</td>\n",
       "    </tr>\n",
       "    <tr>\n",
       "      <th>1</th>\n",
       "      <td>1.246686</td>\n",
       "      <td>1.153597</td>\n",
       "      <td>1</td>\n",
       "    </tr>\n",
       "    <tr>\n",
       "      <th>2</th>\n",
       "      <td>0.962777</td>\n",
       "      <td>0.859397</td>\n",
       "      <td>1</td>\n",
       "    </tr>\n",
       "    <tr>\n",
       "      <th>3</th>\n",
       "      <td>-2.957441</td>\n",
       "      <td>2.033645</td>\n",
       "      <td>1</td>\n",
       "    </tr>\n",
       "    <tr>\n",
       "      <th>4</th>\n",
       "      <td>0.871229</td>\n",
       "      <td>-1.205785</td>\n",
       "      <td>0</td>\n",
       "    </tr>\n",
       "    <tr>\n",
       "      <th>...</th>\n",
       "      <td>...</td>\n",
       "      <td>...</td>\n",
       "      <td>...</td>\n",
       "    </tr>\n",
       "    <tr>\n",
       "      <th>1783</th>\n",
       "      <td>1.065348</td>\n",
       "      <td>1.177956</td>\n",
       "      <td>1</td>\n",
       "    </tr>\n",
       "    <tr>\n",
       "      <th>1784</th>\n",
       "      <td>-1.537228</td>\n",
       "      <td>0.066083</td>\n",
       "      <td>1</td>\n",
       "    </tr>\n",
       "    <tr>\n",
       "      <th>1785</th>\n",
       "      <td>1.037831</td>\n",
       "      <td>1.085238</td>\n",
       "      <td>1</td>\n",
       "    </tr>\n",
       "    <tr>\n",
       "      <th>1786</th>\n",
       "      <td>0.981236</td>\n",
       "      <td>0.874907</td>\n",
       "      <td>1</td>\n",
       "    </tr>\n",
       "    <tr>\n",
       "      <th>1787</th>\n",
       "      <td>-2.949063</td>\n",
       "      <td>1.054460</td>\n",
       "      <td>1</td>\n",
       "    </tr>\n",
       "  </tbody>\n",
       "</table>\n",
       "<p>1788 rows × 3 columns</p>\n",
       "</div>"
      ],
      "text/plain": [
       "            f1        f2  target\n",
       "0    -0.058619 -0.351090       0\n",
       "1     1.246686  1.153597       1\n",
       "2     0.962777  0.859397       1\n",
       "3    -2.957441  2.033645       1\n",
       "4     0.871229 -1.205785       0\n",
       "...        ...       ...     ...\n",
       "1783  1.065348  1.177956       1\n",
       "1784 -1.537228  0.066083       1\n",
       "1785  1.037831  1.085238       1\n",
       "1786  0.981236  0.874907       1\n",
       "1787 -2.949063  1.054460       1\n",
       "\n",
       "[1788 rows x 3 columns]"
      ]
     },
     "execution_count": 103,
     "metadata": {},
     "output_type": "execute_result"
    }
   ],
   "source": [
    "df_resampled"
   ]
  },
  {
   "cell_type": "code",
   "execution_count": 105,
   "id": "b7b3bfa2-402b-405d-be40-3a67bb923185",
   "metadata": {},
   "outputs": [
    {
     "data": {
      "text/plain": [
       "<matplotlib.collections.PathCollection at 0x1a50b2ee330>"
      ]
     },
     "execution_count": 105,
     "metadata": {},
     "output_type": "execute_result"
    },
    {
     "data": {
      "image/png": "[encoded data removed]",
      "text/plain": [
       "<Figure size 640x480 with 1 Axes>"
      ]
     },
     "metadata": {},
     "output_type": "display_data"
    }
   ],
   "source": [
    "import matplotlib.pyplot  as plt\n",
    "plt.scatter(x=df_resampled['f1'],y=df_resampled['f2'],c=df_resampled['target'])  #f1 on x-axis,f2 on y-axis and c means color points based on target ( i.e class 0- one color, class-1 other color)"
   ]
  },
  {
   "cell_type": "code",
   "execution_count": 115,
   "id": "4a9d607e-2d53-4852-8ac6-745a525de177",
   "metadata": {},
   "outputs": [
    {
     "data": {
      "text/plain": [
       "target\n",
       "0    894\n",
       "1    894\n",
       "Name: count, dtype: int64"
      ]
     },
     "execution_count": 115,
     "metadata": {},
     "output_type": "execute_result"
    }
   ],
   "source": [
    "df_resampled['target'].value_counts()"
   ]
  },
  {
   "cell_type": "markdown",
   "id": "8e2db3d3-3356-4df4-851d-57a86ce9d666",
   "metadata": {},
   "source": [
    "**SMOTE generated 788 synthetic points for class 1 (so that it matches 894).<br>\n",
    "These points are not random noise, but created by interpolating between existing minority class samples.**"
   ]
  }
 ],
 "metadata": {
  "kernelspec": {
   "display_name": "Python [conda env:base] *",
   "language": "python",
   "name": "conda-base-py"
  },
  "language_info": {
   "codemirror_mode": {
    "name": "ipython",
    "version": 3
   },
   "file_extension": ".py",
   "mimetype": "text/x-python",
   "name": "python",
   "nbconvert_exporter": "python",
   "pygments_lexer": "ipython3",
   "version": "3.12.7"
  }
 },
 "nbformat": 4,
 "nbformat_minor": 5
}
