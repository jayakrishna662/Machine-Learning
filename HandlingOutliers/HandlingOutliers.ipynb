{
 "cells": [
  {
   "cell_type": "markdown",
   "id": "c7be0d7c-b274-42bf-b956-9f9eb06a6c34",
   "metadata": {},
   "source": [
    "**Outlier: An oulier is a data point which differs significantly from other observations in a dataset.**<br>\n",
    "**If we have an outlier (a very large or very small number), it pulls the mean and SD away from the “true” mean and spread.**"
   ]
  },
  {
   "cell_type": "markdown",
   "id": "91b6e5af-315f-47b0-9f2c-50b45ecfd8aa",
   "metadata": {},
   "source": [
    "# Detecting Outliers: Statistical methods"
   ]
  },
  {
   "cell_type": "markdown",
   "id": "e378eea5-821d-437c-961f-b78f1df59601",
   "metadata": {},
   "source": [
    "i) Z-score Method: If ∣Z∣>3 → Outlier  \n",
    "                   x>Mean-3*SD  OR x<Mean+3SD is considered as oultlier.\n",
    "\n",
    "Because according to normal distribution properties 99.7% of data lies within range of [ x>Mean-3*SD , x<Mean+3SD ] and only 0.3% of data lies beyond this.<br>\n",
    "Z-score method works well with only normally distributed data."
   ]
  },
  {
   "cell_type": "code",
   "execution_count": 51,
   "id": "fdd94545-eab8-4842-8eb8-7a849ba10c3a",
   "metadata": {},
   "outputs": [],
   "source": [
    "import numpy as np\n",
    "import pandas as pd"
   ]
  },
  {
   "cell_type": "code",
   "execution_count": null,
   "id": "e64bd014-3f80-4b03-b6fb-8456f362228f",
   "metadata": {},
   "outputs": [],
   "source": [
    "df=pd.read_csv(\" \") # path to placement.csv file"
   ]
  },
  {
   "cell_type": "code",
   "execution_count": 55,
   "id": "0cf6cc85-5c58-4124-9945-09593c35c657",
   "metadata": {},
   "outputs": [
    {
     "data": {
      "text/html": [
       "<div>\n",
       "<style scoped>\n",
       "    .dataframe tbody tr th:only-of-type {\n",
       "        vertical-align: middle;\n",
       "    }\n",
       "\n",
       "    .dataframe tbody tr th {\n",
       "        vertical-align: top;\n",
       "    }\n",
       "\n",
       "    .dataframe thead th {\n",
       "        text-align: right;\n",
       "    }\n",
       "</style>\n",
       "<table border=\"1\" class=\"dataframe\">\n",
       "  <thead>\n",
       "    <tr style=\"text-align: right;\">\n",
       "      <th></th>\n",
       "      <th>cgpa</th>\n",
       "      <th>placement_exam_marks</th>\n",
       "      <th>placed</th>\n",
       "    </tr>\n",
       "  </thead>\n",
       "  <tbody>\n",
       "    <tr>\n",
       "      <th>329</th>\n",
       "      <td>7.30</td>\n",
       "      <td>35.0</td>\n",
       "      <td>0</td>\n",
       "    </tr>\n",
       "    <tr>\n",
       "      <th>660</th>\n",
       "      <td>5.97</td>\n",
       "      <td>26.0</td>\n",
       "      <td>1</td>\n",
       "    </tr>\n",
       "    <tr>\n",
       "      <th>804</th>\n",
       "      <td>6.49</td>\n",
       "      <td>81.0</td>\n",
       "      <td>0</td>\n",
       "    </tr>\n",
       "    <tr>\n",
       "      <th>389</th>\n",
       "      <td>5.90</td>\n",
       "      <td>16.0</td>\n",
       "      <td>1</td>\n",
       "    </tr>\n",
       "    <tr>\n",
       "      <th>490</th>\n",
       "      <td>7.34</td>\n",
       "      <td>32.0</td>\n",
       "      <td>0</td>\n",
       "    </tr>\n",
       "  </tbody>\n",
       "</table>\n",
       "</div>"
      ],
      "text/plain": [
       "     cgpa  placement_exam_marks  placed\n",
       "329  7.30                  35.0       0\n",
       "660  5.97                  26.0       1\n",
       "804  6.49                  81.0       0\n",
       "389  5.90                  16.0       1\n",
       "490  7.34                  32.0       0"
      ]
     },
     "execution_count": 55,
     "metadata": {},
     "output_type": "execute_result"
    }
   ],
   "source": [
    "df.sample(5)"
   ]
  },
  {
   "cell_type": "code",
   "execution_count": 57,
   "id": "d67c8393-2aea-444a-a201-3b1974a8b4bb",
   "metadata": {},
   "outputs": [
    {
     "name": "stdout",
     "output_type": "stream",
     "text": [
      "6.96124\n",
      "0.6158978751323896\n"
     ]
    }
   ],
   "source": [
    "Mean=df['cgpa'].mean()\n",
    "SD=df['cgpa'].std()\n",
    "print(Mean)\n",
    "print(SD)"
   ]
  },
  {
   "cell_type": "code",
   "execution_count": 65,
   "id": "5eeedabe-9bfa-46bf-8ff5-f8d6ac0f97e0",
   "metadata": {},
   "outputs": [
    {
     "name": "stdout",
     "output_type": "stream",
     "text": [
      "5.113546374602832\n",
      "8.808933625397168\n"
     ]
    }
   ],
   "source": [
    "lower_boundary=Mean-3*SD\n",
    "upper_boundary=Mean+3*SD\n",
    "print(lower_boundary)\n",
    "print(upper_boundary)"
   ]
  },
  {
   "cell_type": "code",
   "execution_count": 73,
   "id": "e2cb99b0-4280-4d05-8ba7-15ce8fc05079",
   "metadata": {},
   "outputs": [
    {
     "name": "stdout",
     "output_type": "stream",
     "text": [
      "     cgpa  placement_exam_marks  placed\n",
      "485  4.92                  44.0       1\n",
      "995  8.87                  44.0       1\n",
      "996  9.12                  65.0       1\n",
      "997  4.89                  34.0       0\n",
      "999  4.90                  10.0       1\n"
     ]
    }
   ],
   "source": [
    "outliers=df[(df['cgpa']<lower_boundary) | (df['cgpa']>upper_boundary)]\n",
    "print(outliers)"
   ]
  },
  {
   "cell_type": "markdown",
   "id": "deca4155-fe97-4131-be54-574b0081bf40",
   "metadata": {},
   "source": [
    "**ii) IQR-method (Interquartile Range)**"
   ]
  },
  {
   "cell_type": "code",
   "execution_count": 98,
   "id": "b19c603e-2db9-4752-b907-2bd347fa291c",
   "metadata": {},
   "outputs": [
    {
     "data": {
      "image/png": "[encoded data removed]",
      "text/plain": [
       "<Figure size 640x480 with 1 Axes>"
      ]
     },
     "metadata": {},
     "output_type": "display_data"
    }
   ],
   "source": [
    "import matplotlib.pyplot as plt\n",
    "import seaborn as sns\n",
    "\n",
    "sns.histplot(df['placement_exam_marks'], bins=30, kde=True) #KDE=Kernel Density Estimate ( the blue line drawn over bars)\n",
    "plt.show()\n"
   ]
  },
  {
   "cell_type": "markdown",
   "id": "b2d58212-5b31-45aa-8512-0a4cbfa39425",
   "metadata": {},
   "source": [
    "**So the column placement_exam_marks contains skewed data i.e right skewed..so we can use IQR method to detect outliers.**"
   ]
  },
  {
   "cell_type": "code",
   "execution_count": 208,
   "id": "3d83f49e-d21d-434c-bb82-d8c3e1f4d718",
   "metadata": {},
   "outputs": [
    {
     "data": {
      "text/plain": [
       "count    1000.000000\n",
       "mean       32.225000\n",
       "std        19.130822\n",
       "min         0.000000\n",
       "25%        17.000000\n",
       "50%        28.000000\n",
       "75%        44.000000\n",
       "max       100.000000\n",
       "Name: placement_exam_marks, dtype: float64"
      ]
     },
     "execution_count": 208,
     "metadata": {},
     "output_type": "execute_result"
    }
   ],
   "source": [
    "df['placement_exam_marks'].describe()"
   ]
  },
  {
   "cell_type": "code",
   "execution_count": 210,
   "id": "39a37ffd-35bd-41ad-bed8-c8f0ff59430a",
   "metadata": {},
   "outputs": [
    {
     "data": {
      "text/plain": [
       "<Axes: ylabel='placement_exam_marks'>"
      ]
     },
     "execution_count": 210,
     "metadata": {},
     "output_type": "execute_result"
    },
    {
     "data": {
      "image/png": "[encoded data removed]",
      "text/plain": [
       "<Figure size 640x480 with 1 Axes>"
      ]
     },
     "metadata": {},
     "output_type": "display_data"
    }
   ],
   "source": [
    "sns.boxplot(df['placement_exam_marks'])"
   ]
  },
  {
   "cell_type": "code",
   "execution_count": 324,
   "id": "82b0a93d-a869-4f0d-bfb7-42cb6fa8e20a",
   "metadata": {},
   "outputs": [
    {
     "name": "stdout",
     "output_type": "stream",
     "text": [
      "17.0\n",
      "44.0\n"
     ]
    }
   ],
   "source": [
    "#Finding 25th percentile and 75th percentile values\n",
    "\n",
    "Q1= df['placement_exam_marks'].quantile(0.25)\n",
    "Q3=df['placement_exam_marks'].quantile(0.75)\n",
    "print(Q1)\n",
    "print(Q3)\n",
    "#A quantile is just a value that splits data at a certain percentage point."
   ]
  },
  {
   "cell_type": "code",
   "execution_count": 326,
   "id": "f3197fd5-6b96-4fcb-ab0e-55f5e509b471",
   "metadata": {},
   "outputs": [
    {
     "name": "stdout",
     "output_type": "stream",
     "text": [
      "27.0\n"
     ]
    }
   ],
   "source": [
    "#Calculating IQR\n",
    "IQR=Q3-Q1\n",
    "print(IQR)"
   ]
  },
  {
   "cell_type": "code",
   "execution_count": 328,
   "id": "8adfdbf5-9260-4d44-859e-5e97b77dac36",
   "metadata": {},
   "outputs": [
    {
     "name": "stdout",
     "output_type": "stream",
     "text": [
      "-23.5\n",
      "84.5\n"
     ]
    }
   ],
   "source": [
    "#Calculate boundaries\n",
    "\n",
    "lower_boundary=Q1-1.5*IQR\n",
    "upper_boundary=Q3+1.5*IQR\n",
    "print(lower_boundary)\n",
    "print(upper_boundary)"
   ]
  },
  {
   "cell_type": "code",
   "execution_count": 330,
   "id": "130b4ece-3e9b-4a91-a3b6-1786e00f17a6",
   "metadata": {},
   "outputs": [
    {
     "name": "stdout",
     "output_type": "stream",
     "text": [
      "     cgpa  placement_exam_marks  placed\n",
      "9    7.75                  94.0       1\n",
      "40   6.60                  86.0       1\n",
      "61   7.51                  86.0       0\n",
      "134  6.33                  93.0       0\n",
      "162  7.80                  90.0       0\n",
      "283  7.09                  87.0       0\n",
      "290  8.38                  87.0       0\n",
      "311  6.97                  87.0       1\n",
      "324  6.64                  90.0       0\n",
      "630  6.56                  96.0       1\n",
      "685  6.05                  87.0       1\n",
      "730  6.14                  90.0       1\n",
      "771  7.31                  86.0       1\n",
      "846  6.99                  97.0       0\n",
      "917  5.95                 100.0       0\n"
     ]
    }
   ],
   "source": [
    "#Detecting outliers\n",
    "outliers=df[(df['placement_exam_marks']<lower_boundary) | (df['placement_exam_marks']>upper_boundary)]\n",
    "print(outliers)"
   ]
  },
  {
   "cell_type": "markdown",
   "id": "b8b05549-3c35-4486-b2cf-dbcb27181d02",
   "metadata": {},
   "source": [
    "**NOTE: Are this really ouliers? Answer is actually context-based... this are actually marks which in real we dont considered as outliers,they are just extreme values , not wrong values...but for understanding purpose we took this example..<br> IQR is mathematical, not contextual**"
   ]
  },
  {
   "cell_type": "code",
   "execution_count": 266,
   "id": "6778d9a6-34fa-4236-b65e-2932b3a3a265",
   "metadata": {},
   "outputs": [],
   "source": [
    "filtered_data = df[(df['placement_exam_marks'] >= lower_boundary) &\n",
    "                   (df['placement_exam_marks'] <= upper_boundary)]"
   ]
  },
  {
   "cell_type": "code",
   "execution_count": 268,
   "id": "5f5971a5-d4db-4ebc-9f51-81df2f741fad",
   "metadata": {},
   "outputs": [
    {
     "name": "stdout",
     "output_type": "stream",
     "text": [
      "(985, 3)\n"
     ]
    }
   ],
   "source": [
    "print(filtered_data.shape)"
   ]
  },
  {
   "cell_type": "code",
   "execution_count": 270,
   "id": "9fb69794-fa92-400c-8870-46efbfda4c1c",
   "metadata": {},
   "outputs": [
    {
     "data": {
      "text/plain": [
       "<Axes: ylabel='placement_exam_marks'>"
      ]
     },
     "execution_count": 270,
     "metadata": {},
     "output_type": "execute_result"
    },
    {
     "data": {
      "image/png": "[encoded data removed]",
      "text/plain": [
       "<Figure size 640x480 with 1 Axes>"
      ]
     },
     "metadata": {},
     "output_type": "display_data"
    }
   ],
   "source": [
    "sns.boxplot(filtered_data['placement_exam_marks'])"
   ]
  },
  {
   "cell_type": "markdown",
   "id": "628b1e38-3fd8-4abc-b56b-0c16d21cdcf3",
   "metadata": {},
   "source": [
    "# Handling Outliers"
   ]
  },
  {
   "cell_type": "markdown",
   "id": "50a746eb-2e9d-43d7-9cd2-c24fbd53ba12",
   "metadata": {},
   "source": [
    "**i) Trimming - in this method, we completely drop rows with extreme outliers<br>\n",
    "     Use when:<br>\n",
    "     Outliers are caused by data entry error <br>\n",
    "     Dataset is large enough so, removing a few rows wont affect much.**"
   ]
  },
  {
   "cell_type": "code",
   "execution_count": 40,
   "id": "ce1960f6-5a88-45b9-92b8-a0699b8585e1",
   "metadata": {},
   "outputs": [
    {
     "name": "stdout",
     "output_type": "stream",
     "text": [
      "   Score\n",
      "0     45\n",
      "1     50\n",
      "2     52\n",
      "3     48\n",
      "4     49\n",
      "5     47\n",
      "6     51\n"
     ]
    }
   ],
   "source": [
    "import pandas as pd\n",
    "\n",
    "data = {\"Score\": [45, 50, 52, 48, 49, 47, 51, 250]}  # 250 is an outlier,assuming its a data entry error\n",
    "df = pd.DataFrame(data)\n",
    "\n",
    "# Calculate IQR\n",
    "Q1 = df[\"Score\"].quantile(0.25)\n",
    "Q3 = df[\"Score\"].quantile(0.75)\n",
    "IQR = Q3 - Q1\n",
    "\n",
    "lower_bound = Q1-1.5*IQR\n",
    "upper_bound = Q3+1.5*IQR\n",
    "\n",
    "\n",
    "# Dropping (Trimming method)\n",
    "df_trimmed = df[(df[\"Score\"] >= lower_bound) & (df[\"Score\"] <= upper_bound)]\n",
    "\n",
    "print(df_trimmed)"
   ]
  },
  {
   "cell_type": "markdown",
   "id": "6f7cf4dd-794f-41ef-8493-ecac0a390c3a",
   "metadata": {},
   "source": [
    "**ii)Capping(Winsorization)<br>\n",
    "      Instead of deleting we cap(limit) them to a threshold.<br>\n",
    "      Any value above upper limit is replaced with upper limit value.<br>\n",
    "      Any value below lower limit is replaced with lower limit value.**"
   ]
  },
  {
   "cell_type": "code",
   "execution_count": 141,
   "id": "7f11856e-fe64-4907-b0ab-f1cce32709c4",
   "metadata": {},
   "outputs": [],
   "source": [
    "data=pd.read_csv(r\"C:\\Users\\Jaykr\\Downloads\\weight-height.csv\")"
   ]
  },
  {
   "cell_type": "code",
   "execution_count": 143,
   "id": "090767d0-1711-443b-a581-7f7c5aacf025",
   "metadata": {},
   "outputs": [
    {
     "data": {
      "text/html": [
       "<div>\n",
       "<style scoped>\n",
       "    .dataframe tbody tr th:only-of-type {\n",
       "        vertical-align: middle;\n",
       "    }\n",
       "\n",
       "    .dataframe tbody tr th {\n",
       "        vertical-align: top;\n",
       "    }\n",
       "\n",
       "    .dataframe thead th {\n",
       "        text-align: right;\n",
       "    }\n",
       "</style>\n",
       "<table border=\"1\" class=\"dataframe\">\n",
       "  <thead>\n",
       "    <tr style=\"text-align: right;\">\n",
       "      <th></th>\n",
       "      <th>Gender</th>\n",
       "      <th>Height</th>\n",
       "      <th>Weight</th>\n",
       "    </tr>\n",
       "  </thead>\n",
       "  <tbody>\n",
       "    <tr>\n",
       "      <th>0</th>\n",
       "      <td>Male</td>\n",
       "      <td>73.847017</td>\n",
       "      <td>241.893563</td>\n",
       "    </tr>\n",
       "    <tr>\n",
       "      <th>1</th>\n",
       "      <td>Male</td>\n",
       "      <td>68.781904</td>\n",
       "      <td>162.310473</td>\n",
       "    </tr>\n",
       "    <tr>\n",
       "      <th>2</th>\n",
       "      <td>Male</td>\n",
       "      <td>74.110105</td>\n",
       "      <td>212.740856</td>\n",
       "    </tr>\n",
       "    <tr>\n",
       "      <th>3</th>\n",
       "      <td>Male</td>\n",
       "      <td>71.730978</td>\n",
       "      <td>220.042470</td>\n",
       "    </tr>\n",
       "    <tr>\n",
       "      <th>4</th>\n",
       "      <td>Male</td>\n",
       "      <td>69.881796</td>\n",
       "      <td>206.349801</td>\n",
       "    </tr>\n",
       "  </tbody>\n",
       "</table>\n",
       "</div>"
      ],
      "text/plain": [
       "  Gender     Height      Weight\n",
       "0   Male  73.847017  241.893563\n",
       "1   Male  68.781904  162.310473\n",
       "2   Male  74.110105  212.740856\n",
       "3   Male  71.730978  220.042470\n",
       "4   Male  69.881796  206.349801"
      ]
     },
     "execution_count": 143,
     "metadata": {},
     "output_type": "execute_result"
    }
   ],
   "source": [
    "data.head()"
   ]
  },
  {
   "cell_type": "code",
   "execution_count": 145,
   "id": "029baf4d-1689-4118-b49e-70dc03aab9b2",
   "metadata": {},
   "outputs": [
    {
     "data": {
      "text/plain": [
       "<Axes: xlabel='Height', ylabel='Count'>"
      ]
     },
     "execution_count": 145,
     "metadata": {},
     "output_type": "execute_result"
    },
    {
     "data": {
      "image/png": "[encoded data removed]",
      "text/plain": [
       "<Figure size 640x480 with 1 Axes>"
      ]
     },
     "metadata": {},
     "output_type": "display_data"
    }
   ],
   "source": [
    "import seaborn as sns\n",
    "sns.histplot(data['Height'], bins=30, kde=True)"
   ]
  },
  {
   "cell_type": "code",
   "execution_count": 147,
   "id": "a9991b9b-91a8-4fa4-a2f5-03f1000c1ab6",
   "metadata": {},
   "outputs": [
    {
     "data": {
      "text/plain": [
       "<Axes: ylabel='Height'>"
      ]
     },
     "execution_count": 147,
     "metadata": {},
     "output_type": "execute_result"
    },
    {
     "data": {
      "image/png": "[encoded data removed]",
      "text/plain": [
       "<Figure size 640x480 with 1 Axes>"
      ]
     },
     "metadata": {},
     "output_type": "display_data"
    }
   ],
   "source": [
    "sns.boxplot(data['Height'])"
   ]
  },
  {
   "cell_type": "code",
   "execution_count": 149,
   "id": "94c802b8-900a-43a1-bba9-09d6b08d90e0",
   "metadata": {},
   "outputs": [
    {
     "name": "stdout",
     "output_type": "stream",
     "text": [
      "63.505620481218955\n",
      "69.1742617268347\n",
      "5.668641245615746\n",
      "55.00265861279534\n",
      "77.67722359525831\n"
     ]
    }
   ],
   "source": [
    "Q1= data['Height'].quantile(0.25)\n",
    "Q3=data['Height'].quantile(0.75)\n",
    "print(Q1)\n",
    "print(Q3)\n",
    "IQR=Q3-Q1\n",
    "print(IQR)\n",
    "lower_boundary=Q1-1.5*IQR\n",
    "upper_boundary=Q3+1.5*IQR\n",
    "print(lower_boundary)\n",
    "print(upper_boundary)"
   ]
  },
  {
   "cell_type": "code",
   "execution_count": 151,
   "id": "a4b7079a-d232-4a97-916f-dc55879bdc43",
   "metadata": {},
   "outputs": [],
   "source": [
    "data['Height']=np.where(data['Height'] >= upper_boundary , upper_boundary, \n",
    "                    np.where(data['Height'] <=lower_boundary, lower_boundary,data['Height']))"
   ]
  },
  {
   "cell_type": "code",
   "execution_count": 153,
   "id": "66064be5-be5e-4d24-8bd6-7bd4f510d6db",
   "metadata": {},
   "outputs": [
    {
     "data": {
      "text/plain": [
       "<Axes: ylabel='Height'>"
      ]
     },
     "execution_count": 153,
     "metadata": {},
     "output_type": "execute_result"
    },
    {
     "data": {
      "image/png": "[encoded data removed]",
      "text/plain": [
       "<Figure size 640x480 with 1 Axes>"
      ]
     },
     "metadata": {},
     "output_type": "display_data"
    }
   ],
   "source": [
    "sns.boxplot(data['Height'])\n"
   ]
  }
 ],
 "metadata": {
  "kernelspec": {
   "display_name": "Python [conda env:base] *",
   "language": "python",
   "name": "conda-base-py"
  },
  "language_info": {
   "codemirror_mode": {
    "name": "ipython",
    "version": 3
   },
   "file_extension": ".py",
   "mimetype": "text/x-python",
   "name": "python",
   "nbconvert_exporter": "python",
   "pygments_lexer": "ipython3",
   "version": "3.12.7"
  }
 },
 "nbformat": 4,
 "nbformat_minor": 5
}
